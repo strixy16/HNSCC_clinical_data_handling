{
 "cells": [
  {
   "cell_type": "markdown",
   "metadata": {},
   "source": [
    "## Directory Structure\n",
    "\n",
    "The first step is to set up a rawdata, procdata, and results directory to keep track of the downloaded data, processing steps, and the final result. We'll also make a workflow directory to keep track of code, logs, configuration files, and other relevant files.\n",
    "\n",
    "The organization will look like this:\n",
    "\n",
    "```raw\n",
    "├── README.md\n",
    "├── procdata\n",
    "├── rawdata\n",
    "├── results\n",
    "└── workflow\n",
    "    ├── config\n",
    "    ├── envs\n",
    "    ├── logs\n",
    "    └── scripts\n",
    "```\n"
   ]
  },
  {
   "cell_type": "markdown",
   "metadata": {},
   "source": [
    "#### Confirm working directory is correct..."
   ]
  },
  {
   "cell_type": "code",
   "execution_count": 1,
   "metadata": {},
   "outputs": [
    {
     "name": "stdout",
     "output_type": "stream",
     "text": [
      "Working directory should end in workflow/scripts: /Users/katyscott/Documents/HNC Project/scripts/clinical_data_handling/workflow/scripts\n"
     ]
    }
   ],
   "source": [
    "import os\n",
    "print(\"Working directory should end in workflow/scripts:\", os.getcwd())"
   ]
  },
  {
   "cell_type": "code",
   "execution_count": 3,
   "metadata": {
    "vscode": {
     "languageId": "shellscript"
    }
   },
   "outputs": [],
   "source": [
    "!mkdir -p ../../rawdata/ ../../procdata/ ../../results/"
   ]
  },
  {
   "cell_type": "markdown",
   "metadata": {},
   "source": [
    "# Download clinical data from TCIA for the HNSCC dataset\n",
    "\n",
    "HNSCC is a publicly available dataset on TCIA. The imaging data is under a TCIA Restricted License, but the clinical data is available for download. \n",
    "\n",
    "There are two clinical spreadsheets provided as data from two institutions is included. The first is _Head-Neck-CT-Atlas_ and the second is _Radiomics outcome prediction in Oropharyngeal cancer_. We'll refer to these as ATLAS and OPC, respectively."
   ]
  },
  {
   "cell_type": "code",
   "execution_count": 4,
   "metadata": {
    "vscode": {
     "languageId": "shellscript"
    }
   },
   "outputs": [
    {
     "name": "stdout",
     "output_type": "stream",
     "text": [
      "File ‘../../rawdata/HNSCC/clinical/atlas/HNSCC-MDA-Data_update_20240514.xlsx’ already there; not retrieving.\n",
      "\n"
     ]
    }
   ],
   "source": [
    "# Download ATLAS Clinical Data to the appropriate directory\n",
    "# Won't download if the file already exists\n",
    "!wget -nc -P ../../rawdata/HNSCC/clinical/atlas/ https://www.cancerimagingarchive.net/wp-content/uploads/HNSCC-MDA-Data_update_20240514.xlsx"
   ]
  },
  {
   "cell_type": "code",
   "execution_count": 8,
   "metadata": {
    "vscode": {
     "languageId": "shellscript"
    }
   },
   "outputs": [
    {
     "name": "stdout",
     "output_type": "stream",
     "text": [
      "--2024-09-30 17:18:39--  https://www.cancerimagingarchive.net/wp-content/uploads/Radiomics_Outcome_Prediction_in_OPC_ASRM_corrected.csv\n",
      "Resolving www.cancerimagingarchive.net (www.cancerimagingarchive.net)... 144.30.169.13\n",
      "Connecting to www.cancerimagingarchive.net (www.cancerimagingarchive.net)|144.30.169.13|:443... connected.\n",
      "HTTP request sent, awaiting response... 200 OK\n",
      "Length: 88002 (86K) [text/csv]\n",
      "Saving to: ‘../../rawdata/HNSCC/clinical/opc/Radiomics_Outcome_Prediction_in_OPC_ASRM_corrected.csv’\n",
      "\n",
      "Radiomics_Outcome_P 100%[===================>]  85.94K   431KB/s    in 0.2s    \n",
      "\n",
      "2024-09-30 17:18:39 (431 KB/s) - ‘../../rawdata/HNSCC/clinical/opc/Radiomics_Outcome_Prediction_in_OPC_ASRM_corrected.csv’ saved [88002/88002]\n",
      "\n"
     ]
    },
    {
     "ename": "",
     "evalue": "",
     "output_type": "error",
     "traceback": [
      "\u001b[1;31mnotebook controller is DISPOSED. \n",
      "\u001b[1;31mView Jupyter <a href='command:jupyter.viewOutput'>log</a> for further details."
     ]
    }
   ],
   "source": [
    "# Download OPC Clinical Data to the appropriate directory\n",
    "# Won't download if the file already exists\n",
    "!wget -nc -P ../../rawdata/HNSCC/clinical/opc/ https://www.cancerimagingarchive.net/wp-content/uploads/Radiomics_Outcome_Prediction_in_OPC_ASRM_corrected.csv"
   ]
  },
  {
   "cell_type": "markdown",
   "metadata": {},
   "source": [
    "# Data Loading"
   ]
  },
  {
   "cell_type": "code",
   "execution_count": 2,
   "metadata": {},
   "outputs": [],
   "source": [
    "import pandas as pd\n",
    "import os\n",
    "from helpers import *"
   ]
  },
  {
   "cell_type": "code",
   "execution_count": 13,
   "metadata": {},
   "outputs": [],
   "source": [
    "atlas_clinical_data_path = os.path.join(\"../../rawdata/HNSCC/clinical/atlas/\", os.listdir(\"../../rawdata/HNSCC/clinical/atlas/\")[0])\n",
    "atlas_clinical_dataframe = load_data_to_df(atlas_clinical_data_path)"
   ]
  },
  {
   "cell_type": "code",
   "execution_count": 14,
   "metadata": {},
   "outputs": [],
   "source": [
    "opc_clinical_data_path = os.path.join(\"../../rawdata/HNSCC/clinical/opc/\", os.listdir(\"../../rawdata/HNSCC/clinical/opc/\")[0])\n",
    "opc_clinical_dataframe =load_data_to_df(opc_clinical_data_path)"
   ]
  },
  {
   "cell_type": "markdown",
   "metadata": {},
   "source": [
    "# Rename Clinical Columns to match\n",
    "\n",
    "These two clinical datasets have different column numbers and names. We're going to rename the columns to match, based on the RADCURE clinical dataset (also on TCIA)."
   ]
  },
  {
   "cell_type": "code",
   "execution_count": 15,
   "metadata": {},
   "outputs": [],
   "source": [
    "updated_col_names_atlas = {\"Alive or Dead\": \"Status\"}\n",
    "\n",
    "updated_atlas_clinical_dataframe = atlas_clinical_dataframe.rename(columns=updated_col_names_atlas)"
   ]
  },
  {
   "cell_type": "code",
   "execution_count": 16,
   "metadata": {},
   "outputs": [],
   "source": [
    "updated_col_names_opc = {\"Gender\": \"Sex\",\n",
    "                         \"Age at Diag\": \"Age\",\n",
    "                         \"T-category\": \"T\",\n",
    "                         \"N-category\": \"N\",\n",
    "                         \"AJCC Stage (7th edition)\": \"Stage\",\n",
    "                         \"Total prescribed Radiation treatment dose\": \"RT Total Dose (Gy)\",\n",
    "                         \"Radiation treatment_number of fractions\": \"Number of Fractions\",\n",
    "                         \"Radiation treatment_dose per fraction\": \"Dose/Fraction (Gy/fx)\",\n",
    "                         \"Vital status\": \"Status\",\n",
    "                         \"Overall survival_duration of Merged updated ASRM V2\": \"Survival (days)\",\n",
    "                         }\n",
    "\n",
    "updated_opc_clinical_dataframe = opc_clinical_dataframe.rename(columns=updated_col_names_opc)"
   ]
  },
  {
   "cell_type": "markdown",
   "metadata": {},
   "source": [
    "### Rename the patient ID column"
   ]
  },
  {
   "cell_type": "code",
   "execution_count": 17,
   "metadata": {},
   "outputs": [],
   "source": [
    "atlas_patient_identifier = getPatientIdentifierLabel(updated_atlas_clinical_dataframe)\n",
    "updated_atlas_clinical_dataframe.rename(columns={atlas_patient_identifier: \"patient_ID\"}, inplace=True)"
   ]
  },
  {
   "cell_type": "code",
   "execution_count": 18,
   "metadata": {},
   "outputs": [
    {
     "name": "stdout",
     "output_type": "stream",
     "text": [
      "Multiple patient identifier labels found. Using the first one.\n"
     ]
    }
   ],
   "source": [
    "opc_patient_identifier = getPatientIdentifierLabel(updated_opc_clinical_dataframe)\n",
    "updated_opc_clinical_dataframe.rename(columns={opc_patient_identifier: \"patient_ID\"}, inplace=True)"
   ]
  },
  {
   "cell_type": "markdown",
   "metadata": {},
   "source": [
    "### Make a Survival (years) column for the datasets"
   ]
  },
  {
   "cell_type": "code",
   "execution_count": 22,
   "metadata": {},
   "outputs": [],
   "source": [
    "# Get survival in years for both datasets\n",
    "\n",
    "atlas_survival = updated_atlas_clinical_dataframe[f\"Survival  (months)\"]\n",
    "atlas_survival_years = atlas_survival / 12\n",
    "updated_atlas_clinical_dataframe[f\"Survival (years)\"] = atlas_survival_years\n",
    "\n",
    "opr_survival = updated_opc_clinical_dataframe[f\"Survival (days)\"]\n",
    "opr_survival_years = opr_survival / 365\n",
    "updated_opc_clinical_dataframe[f\"Survival (years)\"] = opr_survival_years"
   ]
  },
  {
   "cell_type": "code",
   "execution_count": 16,
   "metadata": {},
   "outputs": [],
   "source": [
    "# OPTIONAL: Save the updated versions of the clinical data\n",
    "# updated_atlas_clinical_dataframe.to_csv(\"../../procdata/HSNCC_atlas_updated_colnames_clinical_data.csv\")\n",
    "# updated_opc_clinical_dataframe.to_csv(\"../../procdata/HSNCC_opc_updated_colnames_clinical_data.csv\")"
   ]
  },
  {
   "cell_type": "markdown",
   "metadata": {},
   "source": [
    "# Merge Dataframes\n",
    "\n",
    "Now that the datasets have more matching columns, we can merge them into a single dataframe. The ATLAS dataset has many columns not present in OPC and vice versa, so these will be marked as `NaN` in the merged dataframe."
   ]
  },
  {
   "cell_type": "markdown",
   "metadata": {},
   "source": [
    "## Find common columns\n",
    "Find the columns that are in both datasets. \n",
    "\n",
    "For the patients that are unique to one or the other, we'll use this to merge the datasets.\n",
    "\n",
    "**For the patients in both datasets, we will use the data from the ATLAS dataset.**"
   ]
  },
  {
   "cell_type": "code",
   "execution_count": 23,
   "metadata": {},
   "outputs": [],
   "source": [
    "# Get common columns in the two clinical datasets - this will be the columns we'll merge on\n",
    "common_cols = list(set(updated_atlas_clinical_dataframe.columns) & set(updated_opc_clinical_dataframe.columns))"
   ]
  },
  {
   "cell_type": "code",
   "execution_count": 24,
   "metadata": {},
   "outputs": [],
   "source": [
    "# Get overlapping patient IDs\n",
    "atlas_patients = updated_atlas_clinical_dataframe['patient_ID']\n",
    "opc_patients = updated_opc_clinical_dataframe['patient_ID']\n",
    "\n",
    "overlapping_patients = list(set(atlas_patients) & set(opc_patients))"
   ]
  },
  {
   "cell_type": "markdown",
   "metadata": {},
   "source": [
    "### Merge the unique patients between the two clinical datasets.\n",
    "\n",
    "Each patient only has data in one of the clinical datasets, so we can join on all of the common columns to prevent duplicates of those.\n",
    "\n",
    "The output will include a column at the end named \"_merge\" that indicated which dataset the patient came from."
   ]
  },
  {
   "cell_type": "code",
   "execution_count": 25,
   "metadata": {},
   "outputs": [],
   "source": [
    "unique_atlas_clinical_dataframe = updated_atlas_clinical_dataframe[~updated_atlas_clinical_dataframe['patient_ID'].isin(overlapping_patients)]\n",
    "unique_opc_clinical_dataframe = updated_opc_clinical_dataframe[~updated_opc_clinical_dataframe['patient_ID'].isin(overlapping_patients)]\n",
    "\n",
    "merged_unique_clinical_dataframe = pd.merge(unique_atlas_clinical_dataframe, unique_opc_clinical_dataframe, \n",
    "                                            how='outer', \n",
    "                                            on=common_cols, \n",
    "                                            suffixes=('_ATLAS', '_OPC'),\n",
    "                                            indicator=True)"
   ]
  },
  {
   "cell_type": "markdown",
   "metadata": {},
   "source": [
    "### Find patients that overlap between the two clinical datasets\n",
    "\n",
    "Each of these patients exist in both datasets. Some of the clinical data is the same, but some is different. Here, we find all the common columns between the two datasets and **only use the data from the ATLAS dataset**. "
   ]
  },
  {
   "cell_type": "code",
   "execution_count": 26,
   "metadata": {},
   "outputs": [],
   "source": [
    "# Filter out the overlapping patients\n",
    "overlap_atlas_clinical_dataframe = updated_atlas_clinical_dataframe[updated_atlas_clinical_dataframe['patient_ID'].isin(overlapping_patients)]\n",
    "overlap_opc_clinical_dataframe = updated_opc_clinical_dataframe[updated_opc_clinical_dataframe['patient_ID'].isin(overlapping_patients)]\n",
    "\n",
    "# Drop the common columns from the OPC dataframe except for the patient ID\n",
    "non_id_common_columns = common_cols\n",
    "non_id_common_columns.remove('patient_ID')\n",
    "\n",
    "overlap_opc_clinical_dataframe = overlap_opc_clinical_dataframe.drop(columns=non_id_common_columns)\n",
    "\n",
    "# Merge the two dataframes\n",
    "merged_overlap_clinical_dataframe = pd.merge(overlap_atlas_clinical_dataframe, overlap_opc_clinical_dataframe, \n",
    "                                             how='left', \n",
    "                                             on=['patient_ID'], \n",
    "                                             suffixes=('_ATLAS', '_OPC'), \n",
    "                                             indicator=True)"
   ]
  },
  {
   "cell_type": "markdown",
   "metadata": {},
   "source": [
    "## Confirm that the number of columns is the same in the two merged datasets"
   ]
  },
  {
   "cell_type": "code",
   "execution_count": 28,
   "metadata": {},
   "outputs": [
    {
     "name": "stdout",
     "output_type": "stream",
     "text": [
      "The second value for each dataset should be 94:\n",
      "Unique patient dataframe size: (547, 94)\n",
      "Overlap patient dataframe size: (80, 94)\n"
     ]
    }
   ],
   "source": [
    "print(\"The second value for each dataset should be 94:\")\n",
    "print(\"Unique patient dataframe size:\", merged_unique_clinical_dataframe.shape)\n",
    "print(\"Overlap patient dataframe size:\", merged_overlap_clinical_dataframe.shape)"
   ]
  },
  {
   "cell_type": "markdown",
   "metadata": {},
   "source": [
    "## Concatenate and sort the resulting dataframes"
   ]
  },
  {
   "cell_type": "code",
   "execution_count": 29,
   "metadata": {},
   "outputs": [],
   "source": [
    "combined_clinical_dataframe = pd.concat([merged_overlap_clinical_dataframe, merged_unique_clinical_dataframe], axis=0)\n",
    "combined_clinical_dataframe.sort_values(by=['patient_ID'], inplace=True)"
   ]
  },
  {
   "cell_type": "markdown",
   "metadata": {},
   "source": [
    "# Save the merged dataframe to a csv file"
   ]
  },
  {
   "cell_type": "code",
   "execution_count": 30,
   "metadata": {},
   "outputs": [],
   "source": [
    "from datetime import datetime\n",
    "todays_date = datetime.today().strftime('%Y%m%d')\n",
    "combined_clinical_dataframe.to_csv(\"../../results/HNSCC_combined_atlas_and_opc_clinical_data_\" + todays_date +\".csv\", index=False)"
   ]
  }
 ],
 "metadata": {
  "kernelspec": {
   "display_name": "radiogenomics",
   "language": "python",
   "name": "python3"
  },
  "language_info": {
   "codemirror_mode": {
    "name": "ipython",
    "version": 3
   },
   "file_extension": ".py",
   "mimetype": "text/x-python",
   "name": "python",
   "nbconvert_exporter": "python",
   "pygments_lexer": "ipython3",
   "version": "3.12.6"
  }
 },
 "nbformat": 4,
 "nbformat_minor": 2
}
